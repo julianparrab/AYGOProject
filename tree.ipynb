{
 "cells": [
  {
   "cell_type": "markdown",
   "id": "8939be14-865f-4e19-a035-4661c059e0e9",
   "metadata": {},
   "source": [
    "#Imports"
   ]
  },
  {
   "cell_type": "code",
   "execution_count": 1,
   "id": "5ff6865b-06d1-4a20-bcde-2bdcd9ae35e7",
   "metadata": {},
   "outputs": [],
   "source": [
    "import numpy as np\n",
    "import pandas as pd\n",
    "from pandas.api.types import CategoricalDtype\n",
    "import matplotlib.pyplot as plt\n",
    "import matplotlib.image as mpimg\n",
    "import seaborn as sn\n",
    "%matplotlib inline\n",
    "\n",
    "from sklearn.ensemble import RandomForestClassifier\n",
    "from sklearn.tree import DecisionTreeClassifier\n",
    "from sklearn.tree import export_graphviz\n",
    "from sklearn.metrics import confusion_matrix, roc_curve, auc\n",
    "from sklearn.model_selection import train_test_split\n",
    "\n",
    "pd.options.mode.chained_assignment = None\n",
    "from warnings import simplefilter\n",
    "simplefilter(action='ignore', category=FutureWarning)\n",
    "\n",
    "# Gráficos\n",
    "from subprocess import call\n",
    "from IPython.display import Image"
   ]
  },
  {
   "cell_type": "code",
   "execution_count": 2,
   "id": "a2dbf2af-2f83-4023-95cd-cb05e6fc5955",
   "metadata": {},
   "outputs": [],
   "source": [
    "dF = pd.read_csv(\"test.csv\")"
   ]
  },
  {
   "cell_type": "code",
   "execution_count": 3,
   "id": "93c1125e-0f97-482b-aeb9-d49bb4826fab",
   "metadata": {},
   "outputs": [
    {
     "data": {
      "text/html": [
       "<div>\n",
       "<style scoped>\n",
       "    .dataframe tbody tr th:only-of-type {\n",
       "        vertical-align: middle;\n",
       "    }\n",
       "\n",
       "    .dataframe tbody tr th {\n",
       "        vertical-align: top;\n",
       "    }\n",
       "\n",
       "    .dataframe thead th {\n",
       "        text-align: right;\n",
       "    }\n",
       "</style>\n",
       "<table border=\"1\" class=\"dataframe\">\n",
       "  <thead>\n",
       "    <tr style=\"text-align: right;\">\n",
       "      <th></th>\n",
       "      <th>ID_DETALLE</th>\n",
       "      <th>NOMCIENTIFICO</th>\n",
       "      <th>ALTURATOTAL</th>\n",
       "      <th>VOLUMENCOMER</th>\n",
       "      <th>DENSIDAD</th>\n",
       "      <th>ESTADO_COPA</th>\n",
       "      <th>ESTADO_FUSTE</th>\n",
       "      <th>ESTADO_RAIZ</th>\n",
       "      <th>EST_RAIZ_GEN</th>\n",
       "      <th>NIVEL_RIESGO</th>\n",
       "      <th>ESTADO_FITO</th>\n",
       "      <th>TRATAMIENTO</th>\n",
       "    </tr>\n",
       "  </thead>\n",
       "  <tbody>\n",
       "    <tr>\n",
       "      <th>0</th>\n",
       "      <td>266</td>\n",
       "      <td>Sambucus nigra</td>\n",
       "      <td>3.0</td>\n",
       "      <td>0.000</td>\n",
       "      <td>Medio</td>\n",
       "      <td>Bueno</td>\n",
       "      <td>Bueno</td>\n",
       "      <td>No apreciable</td>\n",
       "      <td>Bueno</td>\n",
       "      <td>Ninguna</td>\n",
       "      <td>Bueno</td>\n",
       "      <td>Conservacion</td>\n",
       "    </tr>\n",
       "    <tr>\n",
       "      <th>1</th>\n",
       "      <td>267</td>\n",
       "      <td>Tecoma stans</td>\n",
       "      <td>2.5</td>\n",
       "      <td>0.000</td>\n",
       "      <td>Denso</td>\n",
       "      <td>Bueno</td>\n",
       "      <td>Bueno</td>\n",
       "      <td>No apreciable</td>\n",
       "      <td>Bueno</td>\n",
       "      <td>Ninguna</td>\n",
       "      <td>Bueno</td>\n",
       "      <td>Conservacion</td>\n",
       "    </tr>\n",
       "    <tr>\n",
       "      <th>2</th>\n",
       "      <td>268</td>\n",
       "      <td>Fraxinus chinensis</td>\n",
       "      <td>4.5</td>\n",
       "      <td>0.000</td>\n",
       "      <td>Ralo</td>\n",
       "      <td>Regular</td>\n",
       "      <td>Bueno</td>\n",
       "      <td>No apreciable</td>\n",
       "      <td>Bueno</td>\n",
       "      <td>Ninguna</td>\n",
       "      <td>Regular</td>\n",
       "      <td>Poda Estructural</td>\n",
       "    </tr>\n",
       "    <tr>\n",
       "      <th>3</th>\n",
       "      <td>269</td>\n",
       "      <td>Acacia melanoxylon</td>\n",
       "      <td>3.0</td>\n",
       "      <td>0.003</td>\n",
       "      <td>Muy Ralo</td>\n",
       "      <td>Malo</td>\n",
       "      <td>Regular</td>\n",
       "      <td>Raices Descubiertas</td>\n",
       "      <td>Regular</td>\n",
       "      <td>Ninguna</td>\n",
       "      <td>Malo</td>\n",
       "      <td>Tala</td>\n",
       "    </tr>\n",
       "    <tr>\n",
       "      <th>4</th>\n",
       "      <td>270</td>\n",
       "      <td>Acacia decurrens</td>\n",
       "      <td>9.5</td>\n",
       "      <td>0.665</td>\n",
       "      <td>Medio</td>\n",
       "      <td>Regular</td>\n",
       "      <td>Regular</td>\n",
       "      <td>Raices Descubiertas</td>\n",
       "      <td>Regular</td>\n",
       "      <td>Moderada</td>\n",
       "      <td>Regular</td>\n",
       "      <td>Tala</td>\n",
       "    </tr>\n",
       "    <tr>\n",
       "      <th>5</th>\n",
       "      <td>271</td>\n",
       "      <td>Acacia calamifolia</td>\n",
       "      <td>2.3</td>\n",
       "      <td>0.001</td>\n",
       "      <td>Muy Ralo</td>\n",
       "      <td>Regular</td>\n",
       "      <td>Regular</td>\n",
       "      <td>Raices Descubiertas</td>\n",
       "      <td>Regular</td>\n",
       "      <td>Ninguna</td>\n",
       "      <td>Regular</td>\n",
       "      <td>Tala</td>\n",
       "    </tr>\n",
       "    <tr>\n",
       "      <th>6</th>\n",
       "      <td>272</td>\n",
       "      <td>Sambucus nigra</td>\n",
       "      <td>3.5</td>\n",
       "      <td>0.008</td>\n",
       "      <td>Medio</td>\n",
       "      <td>Regular</td>\n",
       "      <td>Regular</td>\n",
       "      <td>Raices Descubiertas</td>\n",
       "      <td>Regular</td>\n",
       "      <td>Ninguna</td>\n",
       "      <td>Regular</td>\n",
       "      <td>Tala</td>\n",
       "    </tr>\n",
       "    <tr>\n",
       "      <th>7</th>\n",
       "      <td>273</td>\n",
       "      <td>Sambucus nigra</td>\n",
       "      <td>2.0</td>\n",
       "      <td>0.001</td>\n",
       "      <td>Denso</td>\n",
       "      <td>Bueno</td>\n",
       "      <td>Regular</td>\n",
       "      <td>Raices Descubiertas</td>\n",
       "      <td>Regular</td>\n",
       "      <td>Ninguna</td>\n",
       "      <td>Regular</td>\n",
       "      <td>Tala</td>\n",
       "    </tr>\n",
       "    <tr>\n",
       "      <th>8</th>\n",
       "      <td>274</td>\n",
       "      <td>Prunus capuli</td>\n",
       "      <td>3.5</td>\n",
       "      <td>0.000</td>\n",
       "      <td>Denso</td>\n",
       "      <td>Regular</td>\n",
       "      <td>Bueno</td>\n",
       "      <td>No apreciable</td>\n",
       "      <td>Bueno</td>\n",
       "      <td>Ninguna</td>\n",
       "      <td>Regular</td>\n",
       "      <td>Poda Estructural</td>\n",
       "    </tr>\n",
       "    <tr>\n",
       "      <th>9</th>\n",
       "      <td>275</td>\n",
       "      <td>Sambucus nigra</td>\n",
       "      <td>1.6</td>\n",
       "      <td>0.000</td>\n",
       "      <td>Medio</td>\n",
       "      <td>Regular</td>\n",
       "      <td>Regular</td>\n",
       "      <td>Raices Descubiertas</td>\n",
       "      <td>Regular</td>\n",
       "      <td>Ninguna</td>\n",
       "      <td>Regular</td>\n",
       "      <td>Tala</td>\n",
       "    </tr>\n",
       "  </tbody>\n",
       "</table>\n",
       "</div>"
      ],
      "text/plain": [
       "   ID_DETALLE       NOMCIENTIFICO  ALTURATOTAL  VOLUMENCOMER  DENSIDAD  \\\n",
       "0         266      Sambucus nigra          3.0         0.000     Medio   \n",
       "1         267        Tecoma stans          2.5         0.000     Denso   \n",
       "2         268  Fraxinus chinensis          4.5         0.000      Ralo   \n",
       "3         269  Acacia melanoxylon          3.0         0.003  Muy Ralo   \n",
       "4         270    Acacia decurrens          9.5         0.665     Medio   \n",
       "5         271  Acacia calamifolia          2.3         0.001  Muy Ralo   \n",
       "6         272      Sambucus nigra          3.5         0.008     Medio   \n",
       "7         273      Sambucus nigra          2.0         0.001     Denso   \n",
       "8         274       Prunus capuli          3.5         0.000     Denso   \n",
       "9         275      Sambucus nigra          1.6         0.000     Medio   \n",
       "\n",
       "  ESTADO_COPA ESTADO_FUSTE          ESTADO_RAIZ EST_RAIZ_GEN NIVEL_RIESGO  \\\n",
       "0       Bueno        Bueno        No apreciable        Bueno      Ninguna   \n",
       "1       Bueno        Bueno        No apreciable        Bueno      Ninguna   \n",
       "2     Regular        Bueno        No apreciable        Bueno      Ninguna   \n",
       "3        Malo      Regular  Raices Descubiertas      Regular      Ninguna   \n",
       "4     Regular      Regular  Raices Descubiertas      Regular     Moderada   \n",
       "5     Regular      Regular  Raices Descubiertas      Regular      Ninguna   \n",
       "6     Regular      Regular  Raices Descubiertas      Regular      Ninguna   \n",
       "7       Bueno      Regular  Raices Descubiertas      Regular      Ninguna   \n",
       "8     Regular        Bueno        No apreciable        Bueno      Ninguna   \n",
       "9     Regular      Regular  Raices Descubiertas      Regular      Ninguna   \n",
       "\n",
       "  ESTADO_FITO       TRATAMIENTO  \n",
       "0       Bueno      Conservacion  \n",
       "1       Bueno      Conservacion  \n",
       "2     Regular  Poda Estructural  \n",
       "3        Malo              Tala  \n",
       "4     Regular              Tala  \n",
       "5     Regular              Tala  \n",
       "6     Regular              Tala  \n",
       "7     Regular              Tala  \n",
       "8     Regular  Poda Estructural  \n",
       "9     Regular              Tala  "
      ]
     },
     "execution_count": 3,
     "metadata": {},
     "output_type": "execute_result"
    }
   ],
   "source": [
    "dF.head(10)"
   ]
  },
  {
   "cell_type": "code",
   "execution_count": 4,
   "id": "d5e37f79-2b41-4209-8141-3794108c84e3",
   "metadata": {},
   "outputs": [
    {
     "data": {
      "text/plain": [
       "Index(['ID_DETALLE', 'NOMCIENTIFICO', 'ALTURATOTAL', 'VOLUMENCOMER',\n",
       "       'DENSIDAD', 'ESTADO_COPA', 'ESTADO_FUSTE', 'ESTADO_RAIZ',\n",
       "       'EST_RAIZ_GEN', 'NIVEL_RIESGO', 'ESTADO_FITO', 'TRATAMIENTO'],\n",
       "      dtype='object')"
      ]
     },
     "execution_count": 4,
     "metadata": {},
     "output_type": "execute_result"
    }
   ],
   "source": [
    "dF.columns"
   ]
  },
  {
   "cell_type": "code",
   "execution_count": 5,
   "id": "1273703f-2923-469b-8bc0-d3b0213ed1af",
   "metadata": {},
   "outputs": [
    {
     "data": {
      "text/plain": [
       "(312923, 12)"
      ]
     },
     "execution_count": 5,
     "metadata": {},
     "output_type": "execute_result"
    }
   ],
   "source": [
    "dF.shape"
   ]
  },
  {
   "cell_type": "code",
   "execution_count": 6,
   "id": "357634ae-fc6f-4401-b471-27995f39ee0b",
   "metadata": {},
   "outputs": [
    {
     "name": "stdout",
     "output_type": "stream",
     "text": [
      "<class 'pandas.core.frame.DataFrame'>\n",
      "RangeIndex: 312923 entries, 0 to 312922\n",
      "Data columns (total 12 columns):\n",
      " #   Column         Non-Null Count   Dtype  \n",
      "---  ------         --------------   -----  \n",
      " 0   ID_DETALLE     312923 non-null  int64  \n",
      " 1   NOMCIENTIFICO  312922 non-null  object \n",
      " 2   ALTURATOTAL    312923 non-null  float64\n",
      " 3   VOLUMENCOMER   312923 non-null  float64\n",
      " 4   DENSIDAD       312923 non-null  object \n",
      " 5   ESTADO_COPA    312923 non-null  object \n",
      " 6   ESTADO_FUSTE   312923 non-null  object \n",
      " 7   ESTADO_RAIZ    312923 non-null  object \n",
      " 8   EST_RAIZ_GEN   312923 non-null  object \n",
      " 9   NIVEL_RIESGO   312923 non-null  object \n",
      " 10  ESTADO_FITO    305418 non-null  object \n",
      " 11  TRATAMIENTO    312923 non-null  object \n",
      "dtypes: float64(2), int64(1), object(9)\n",
      "memory usage: 28.6+ MB\n"
     ]
    }
   ],
   "source": [
    "dF.info()"
   ]
  },
  {
   "cell_type": "code",
   "execution_count": 7,
   "id": "494d579c-5b99-4e38-9866-bf66b64a690b",
   "metadata": {},
   "outputs": [],
   "source": [
    "dF= dF[['ID_DETALLE','TRATAMIENTO', 'ALTURATOTAL', 'DENSIDAD', 'ESTADO_COPA', 'ESTADO_FUSTE', 'EST_RAIZ_GEN', 'NIVEL_RIESGO', 'ESTADO_FITO']].dropna()"
   ]
  },
  {
   "cell_type": "code",
   "execution_count": 8,
   "id": "9a7f86ee-093c-47af-9629-2017253ff1fb",
   "metadata": {},
   "outputs": [
    {
     "name": "stdout",
     "output_type": "stream",
     "text": [
      "<class 'pandas.core.frame.DataFrame'>\n",
      "Index: 305418 entries, 0 to 312918\n",
      "Data columns (total 9 columns):\n",
      " #   Column        Non-Null Count   Dtype  \n",
      "---  ------        --------------   -----  \n",
      " 0   ID_DETALLE    305418 non-null  int64  \n",
      " 1   TRATAMIENTO   305418 non-null  object \n",
      " 2   ALTURATOTAL   305418 non-null  float64\n",
      " 3   DENSIDAD      305418 non-null  object \n",
      " 4   ESTADO_COPA   305418 non-null  object \n",
      " 5   ESTADO_FUSTE  305418 non-null  object \n",
      " 6   EST_RAIZ_GEN  305418 non-null  object \n",
      " 7   NIVEL_RIESGO  305418 non-null  object \n",
      " 8   ESTADO_FITO   305418 non-null  object \n",
      "dtypes: float64(1), int64(1), object(7)\n",
      "memory usage: 23.3+ MB\n"
     ]
    }
   ],
   "source": [
    "dF.info()"
   ]
  },
  {
   "cell_type": "code",
   "execution_count": 9,
   "id": "c9370914-7105-4e5c-93d7-ec9026603c55",
   "metadata": {
    "scrolled": true
   },
   "outputs": [
    {
     "data": {
      "text/html": [
       "<div>\n",
       "<style scoped>\n",
       "    .dataframe tbody tr th:only-of-type {\n",
       "        vertical-align: middle;\n",
       "    }\n",
       "\n",
       "    .dataframe tbody tr th {\n",
       "        vertical-align: top;\n",
       "    }\n",
       "\n",
       "    .dataframe thead th {\n",
       "        text-align: right;\n",
       "    }\n",
       "</style>\n",
       "<table border=\"1\" class=\"dataframe\">\n",
       "  <thead>\n",
       "    <tr style=\"text-align: right;\">\n",
       "      <th></th>\n",
       "      <th>ID_DETALLE</th>\n",
       "      <th>ALTURATOTAL</th>\n",
       "    </tr>\n",
       "  </thead>\n",
       "  <tbody>\n",
       "    <tr>\n",
       "      <th>count</th>\n",
       "      <td>3.054180e+05</td>\n",
       "      <td>305418.000000</td>\n",
       "    </tr>\n",
       "    <tr>\n",
       "      <th>mean</th>\n",
       "      <td>1.044613e+12</td>\n",
       "      <td>8.261619</td>\n",
       "    </tr>\n",
       "    <tr>\n",
       "      <th>std</th>\n",
       "      <td>7.030492e+11</td>\n",
       "      <td>5.658934</td>\n",
       "    </tr>\n",
       "    <tr>\n",
       "      <th>min</th>\n",
       "      <td>2.660000e+02</td>\n",
       "      <td>0.200000</td>\n",
       "    </tr>\n",
       "    <tr>\n",
       "      <th>25%</th>\n",
       "      <td>4.929312e+05</td>\n",
       "      <td>4.000000</td>\n",
       "    </tr>\n",
       "    <tr>\n",
       "      <th>50%</th>\n",
       "      <td>1.463652e+12</td>\n",
       "      <td>7.000000</td>\n",
       "    </tr>\n",
       "    <tr>\n",
       "      <th>75%</th>\n",
       "      <td>1.539292e+12</td>\n",
       "      <td>11.000000</td>\n",
       "    </tr>\n",
       "    <tr>\n",
       "      <th>max</th>\n",
       "      <td>1.675971e+12</td>\n",
       "      <td>89.800000</td>\n",
       "    </tr>\n",
       "  </tbody>\n",
       "</table>\n",
       "</div>"
      ],
      "text/plain": [
       "         ID_DETALLE    ALTURATOTAL\n",
       "count  3.054180e+05  305418.000000\n",
       "mean   1.044613e+12       8.261619\n",
       "std    7.030492e+11       5.658934\n",
       "min    2.660000e+02       0.200000\n",
       "25%    4.929312e+05       4.000000\n",
       "50%    1.463652e+12       7.000000\n",
       "75%    1.539292e+12      11.000000\n",
       "max    1.675971e+12      89.800000"
      ]
     },
     "execution_count": 9,
     "metadata": {},
     "output_type": "execute_result"
    }
   ],
   "source": [
    "dF.describe()"
   ]
  },
  {
   "cell_type": "code",
   "execution_count": 10,
   "id": "ff28e232-ae95-4bec-a72a-e5fa3ebcb92e",
   "metadata": {},
   "outputs": [
    {
     "data": {
      "text/plain": [
       "TRATAMIENTO\n",
       "Conservacion               38539\n",
       "Poda Aclareo                4120\n",
       "Poda Control de Altura      2661\n",
       "Poda Equilibrio             4893\n",
       "Poda Estructural           46893\n",
       "Poda Radicular              4750\n",
       "Poda Realce                 8558\n",
       "Poda Saneamiento             875\n",
       "Tala                      140913\n",
       "Traslado                   18705\n",
       "Tratamiento Especial         106\n",
       "Tratamiento Integral       34405\n",
       "Name: ID_DETALLE, dtype: int64"
      ]
     },
     "execution_count": 10,
     "metadata": {},
     "output_type": "execute_result"
    }
   ],
   "source": [
    "dF.groupby(['TRATAMIENTO']).count()['ID_DETALLE']"
   ]
  },
  {
   "cell_type": "code",
   "execution_count": 11,
   "id": "6d3aa8fd-57c4-4318-b7cc-d4c2f1a6627b",
   "metadata": {
    "scrolled": true
   },
   "outputs": [
    {
     "data": {
      "text/plain": [
       "DENSIDAD\n",
       "Denso       112791\n",
       "Medio       142477\n",
       "Muy Ralo     18076\n",
       "Ralo         32074\n",
       "Name: ID_DETALLE, dtype: int64"
      ]
     },
     "execution_count": 11,
     "metadata": {},
     "output_type": "execute_result"
    }
   ],
   "source": [
    "dF.groupby(['DENSIDAD']).count()['ID_DETALLE']"
   ]
  },
  {
   "cell_type": "code",
   "execution_count": 12,
   "id": "5a99900a-5c19-4a6a-8850-a08d3e28ed6f",
   "metadata": {},
   "outputs": [],
   "source": [
    "densidad_type = {'Denso':0,'Medio':1, 'Muy Ralo':2, 'Ralo':3}\n",
    "estado_types = {'Bueno':0,'Regular':1, 'Malo':2, 'Suprimido':4}\n",
    "riesgo_types = {'Moderada':0,'Ninguna':1, 'Severa':2}\n",
    "\n",
    "dF['DENSIDAD'] = dF['DENSIDAD'].map(densidad_type).astype(int) \n",
    "dF['ESTADO_COPA'] = dF['ESTADO_COPA'].map(estado_types).astype(int)  \n",
    "dF['ESTADO_FUSTE'] = dF['ESTADO_FUSTE'].map(estado_types).astype(int) \n",
    "dF['EST_RAIZ_GEN'] = dF['EST_RAIZ_GEN'].map(estado_types).astype(int)  \n",
    "dF['ESTADO_FITO'] = dF['ESTADO_FITO'].map(estado_types).astype(int)  \n",
    "dF['NIVEL_RIESGO'] = dF['NIVEL_RIESGO'].map(riesgo_types).astype(int) "
   ]
  },
  {
   "cell_type": "code",
   "execution_count": 13,
   "id": "3d265ea1-b4b3-47ff-bf33-46c2128e15cf",
   "metadata": {},
   "outputs": [],
   "source": [
    "#tratamientos_types = CategoricalDtype(categories = {'Tala', 'Conservacion', 'Traslado', 'Poda Formacion', 'Poda Control de Altura', 'Poda Realce', \n",
    " #                   'Poda Aclareo', 'Poda Equilibrio', 'Poda Mejoramiento', 'Poda Estructural', 'Poda Saneamiento', \n",
    "  #                    'Poda Radicular', 'Tratamiento Integral', 'Tratamiento Especial'})\n",
    "\n",
    "tratamientos_types = {'Tala':0, 'Conservacion':1, 'Traslado':2, 'Poda Formacion':3, 'Poda Control de Altura':4, 'Poda Realce':5, \n",
    "                    'Poda Aclareo':6, 'Poda Equilibrio':7, 'Poda Mejoramiento':8, 'Poda Estructural':9, 'Poda Saneamiento':10, \n",
    "                      'Poda Radicular':11, 'Tratamiento Integral':12, 'Tratamiento Especial':13}\n",
    " \n",
    "dF['TRATAMIENTO'] = dF['TRATAMIENTO'].map(tratamientos_types).astype(int)   \n",
    "#dF['TRATAMIENTO'] = dF['TRATAMIENTO'].astype(tratamientos_types)   \n",
    "#df = pd.get_dummies(dF, prefix=['TRATAMIENTO'])\n"
   ]
  },
  {
   "cell_type": "code",
   "execution_count": 14,
   "id": "74861d5e-f991-41be-96f8-1901192d9edd",
   "metadata": {},
   "outputs": [
    {
     "data": {
      "text/html": [
       "<div>\n",
       "<style scoped>\n",
       "    .dataframe tbody tr th:only-of-type {\n",
       "        vertical-align: middle;\n",
       "    }\n",
       "\n",
       "    .dataframe tbody tr th {\n",
       "        vertical-align: top;\n",
       "    }\n",
       "\n",
       "    .dataframe thead th {\n",
       "        text-align: right;\n",
       "    }\n",
       "</style>\n",
       "<table border=\"1\" class=\"dataframe\">\n",
       "  <thead>\n",
       "    <tr style=\"text-align: right;\">\n",
       "      <th></th>\n",
       "      <th>ID_DETALLE</th>\n",
       "      <th>TRATAMIENTO</th>\n",
       "      <th>ALTURATOTAL</th>\n",
       "      <th>DENSIDAD</th>\n",
       "      <th>ESTADO_COPA</th>\n",
       "      <th>ESTADO_FUSTE</th>\n",
       "      <th>EST_RAIZ_GEN</th>\n",
       "      <th>NIVEL_RIESGO</th>\n",
       "      <th>ESTADO_FITO</th>\n",
       "    </tr>\n",
       "  </thead>\n",
       "  <tbody>\n",
       "    <tr>\n",
       "      <th>0</th>\n",
       "      <td>266</td>\n",
       "      <td>1</td>\n",
       "      <td>3.0</td>\n",
       "      <td>1</td>\n",
       "      <td>0</td>\n",
       "      <td>0</td>\n",
       "      <td>0</td>\n",
       "      <td>1</td>\n",
       "      <td>0</td>\n",
       "    </tr>\n",
       "    <tr>\n",
       "      <th>1</th>\n",
       "      <td>267</td>\n",
       "      <td>1</td>\n",
       "      <td>2.5</td>\n",
       "      <td>0</td>\n",
       "      <td>0</td>\n",
       "      <td>0</td>\n",
       "      <td>0</td>\n",
       "      <td>1</td>\n",
       "      <td>0</td>\n",
       "    </tr>\n",
       "    <tr>\n",
       "      <th>2</th>\n",
       "      <td>268</td>\n",
       "      <td>9</td>\n",
       "      <td>4.5</td>\n",
       "      <td>3</td>\n",
       "      <td>1</td>\n",
       "      <td>0</td>\n",
       "      <td>0</td>\n",
       "      <td>1</td>\n",
       "      <td>1</td>\n",
       "    </tr>\n",
       "    <tr>\n",
       "      <th>3</th>\n",
       "      <td>269</td>\n",
       "      <td>0</td>\n",
       "      <td>3.0</td>\n",
       "      <td>2</td>\n",
       "      <td>2</td>\n",
       "      <td>1</td>\n",
       "      <td>1</td>\n",
       "      <td>1</td>\n",
       "      <td>2</td>\n",
       "    </tr>\n",
       "    <tr>\n",
       "      <th>4</th>\n",
       "      <td>270</td>\n",
       "      <td>0</td>\n",
       "      <td>9.5</td>\n",
       "      <td>1</td>\n",
       "      <td>1</td>\n",
       "      <td>1</td>\n",
       "      <td>1</td>\n",
       "      <td>0</td>\n",
       "      <td>1</td>\n",
       "    </tr>\n",
       "    <tr>\n",
       "      <th>5</th>\n",
       "      <td>271</td>\n",
       "      <td>0</td>\n",
       "      <td>2.3</td>\n",
       "      <td>2</td>\n",
       "      <td>1</td>\n",
       "      <td>1</td>\n",
       "      <td>1</td>\n",
       "      <td>1</td>\n",
       "      <td>1</td>\n",
       "    </tr>\n",
       "    <tr>\n",
       "      <th>6</th>\n",
       "      <td>272</td>\n",
       "      <td>0</td>\n",
       "      <td>3.5</td>\n",
       "      <td>1</td>\n",
       "      <td>1</td>\n",
       "      <td>1</td>\n",
       "      <td>1</td>\n",
       "      <td>1</td>\n",
       "      <td>1</td>\n",
       "    </tr>\n",
       "    <tr>\n",
       "      <th>7</th>\n",
       "      <td>273</td>\n",
       "      <td>0</td>\n",
       "      <td>2.0</td>\n",
       "      <td>0</td>\n",
       "      <td>0</td>\n",
       "      <td>1</td>\n",
       "      <td>1</td>\n",
       "      <td>1</td>\n",
       "      <td>1</td>\n",
       "    </tr>\n",
       "    <tr>\n",
       "      <th>8</th>\n",
       "      <td>274</td>\n",
       "      <td>9</td>\n",
       "      <td>3.5</td>\n",
       "      <td>0</td>\n",
       "      <td>1</td>\n",
       "      <td>0</td>\n",
       "      <td>0</td>\n",
       "      <td>1</td>\n",
       "      <td>1</td>\n",
       "    </tr>\n",
       "    <tr>\n",
       "      <th>9</th>\n",
       "      <td>275</td>\n",
       "      <td>0</td>\n",
       "      <td>1.6</td>\n",
       "      <td>1</td>\n",
       "      <td>1</td>\n",
       "      <td>1</td>\n",
       "      <td>1</td>\n",
       "      <td>1</td>\n",
       "      <td>1</td>\n",
       "    </tr>\n",
       "  </tbody>\n",
       "</table>\n",
       "</div>"
      ],
      "text/plain": [
       "   ID_DETALLE  TRATAMIENTO  ALTURATOTAL  DENSIDAD  ESTADO_COPA  ESTADO_FUSTE  \\\n",
       "0         266            1          3.0         1            0             0   \n",
       "1         267            1          2.5         0            0             0   \n",
       "2         268            9          4.5         3            1             0   \n",
       "3         269            0          3.0         2            2             1   \n",
       "4         270            0          9.5         1            1             1   \n",
       "5         271            0          2.3         2            1             1   \n",
       "6         272            0          3.5         1            1             1   \n",
       "7         273            0          2.0         0            0             1   \n",
       "8         274            9          3.5         0            1             0   \n",
       "9         275            0          1.6         1            1             1   \n",
       "\n",
       "   EST_RAIZ_GEN  NIVEL_RIESGO  ESTADO_FITO  \n",
       "0             0             1            0  \n",
       "1             0             1            0  \n",
       "2             0             1            1  \n",
       "3             1             1            2  \n",
       "4             1             0            1  \n",
       "5             1             1            1  \n",
       "6             1             1            1  \n",
       "7             1             1            1  \n",
       "8             0             1            1  \n",
       "9             1             1            1  "
      ]
     },
     "execution_count": 14,
     "metadata": {},
     "output_type": "execute_result"
    }
   ],
   "source": [
    "dF.head(10)\n"
   ]
  },
  {
   "cell_type": "code",
   "execution_count": 15,
   "id": "11ad64d5-89b2-4801-ade1-4d743fbdd163",
   "metadata": {},
   "outputs": [],
   "source": [
    "# Dividir los datos en conjuntos de entrenamiento y prueba\n",
    "X = dF[['ALTURATOTAL', 'DENSIDAD', 'ESTADO_COPA', 'ESTADO_FUSTE', 'EST_RAIZ_GEN', 'NIVEL_RIESGO', 'ESTADO_FITO']].values\n",
    "y = dF[['TRATAMIENTO']].values\n",
    "\n",
    "X_train, X_test, y_train, y_test = train_test_split(X, y, test_size=0.2, random_state=10)"
   ]
  },
  {
   "cell_type": "code",
   "execution_count": 16,
   "id": "587c87bc-4e46-4b34-8c4f-fa96f6ab0a96",
   "metadata": {},
   "outputs": [],
   "source": [
    "from sklearn.linear_model import LinearRegression\n",
    "from sklearn.metrics import confusion_matrix, accuracy_score\n",
    "#import statsmodels.api as sm\n",
    "\n",
    "# Creating Regression Model\n",
    "regressor = LinearRegression()\n",
    "\n",
    "# fit linear regression model\n",
    "model = regressor.fit(X_train, y_train)\n",
    "\n",
    "# Use model to make predictions\n",
    "y_pred = regressor.predict(X_test)"
   ]
  },
  {
   "cell_type": "code",
   "execution_count": 17,
   "id": "3e37870f-b4f2-40ae-ab6a-866ae2bf9241",
   "metadata": {},
   "outputs": [
    {
     "data": {
      "text/plain": [
       "(61084, 1)"
      ]
     },
     "execution_count": 17,
     "metadata": {},
     "output_type": "execute_result"
    }
   ],
   "source": [
    "y_test.shape"
   ]
  },
  {
   "cell_type": "code",
   "execution_count": 18,
   "id": "010ab69b-cc6a-4de2-9bdf-22e2620fdf4c",
   "metadata": {},
   "outputs": [
    {
     "name": "stdout",
     "output_type": "stream",
     "text": [
      "       Tratamiento Actual  Tratamiento Predicted\n",
      "0                      12               3.756487\n",
      "1                       0               2.592951\n",
      "2                      12               5.159824\n",
      "3                      12               3.600671\n",
      "4                       0               5.836321\n",
      "...                   ...                    ...\n",
      "61079                   9               4.671594\n",
      "61080                   9               5.240752\n",
      "61081                   2               4.717597\n",
      "61082                   4               4.684949\n",
      "61083                   0              -0.835860\n",
      "\n",
      "[61084 rows x 2 columns]\n"
     ]
    }
   ],
   "source": [
    "# Con las predicciones de prueba completadas, el siguiente paso será compararlas mejor\n",
    "# con los valores de salida reales para X_test organizándolos en un DataFrame\n",
    "predicted = regressor.predict(X_test)\n",
    "\n",
    "# Creamos un DataFrame con los valores reales y predichos\n",
    "#dframe = pd.DataFrame(y_test, predicted)\n",
    "dfr = pd.DataFrame({'Tratamiento Actual': y_test.squeeze(), 'Tratamiento Predicted': predicted.squeeze()})\n",
    "print(dfr)\n",
    "\n",
    "\n"
   ]
  },
  {
   "cell_type": "code",
   "execution_count": 19,
   "id": "ad5038cc-68cf-40a8-b0ba-78a502323cec",
   "metadata": {},
   "outputs": [
    {
     "data": {
      "image/png": "[encoded data removed]",
      "text/plain": [
       "<Figure size 800x800 with 1 Axes>"
      ]
     },
     "metadata": {},
     "output_type": "display_data"
    }
   ],
   "source": [
    "# Creamos una figura para la gráfica\n",
    "plt.figure(figsize=(8,8))\n",
    "plt.ylabel('Tratamiento', fontsize=16)\n",
    "\n",
    "# Graficamos los valores reales y predichos\n",
    "plt.plot(dfr)\n",
    "plt.legend(['Tratamiento Actual', 'Tratamiento Predicted'])\n",
    "plt.show()"
   ]
  },
  {
   "cell_type": "code",
   "execution_count": 20,
   "id": "c48b7542-d89d-4f6f-ae31-5143b8a03afc",
   "metadata": {},
   "outputs": [
    {
     "data": {
      "text/plain": [
       "<Axes: >"
      ]
     },
     "execution_count": 20,
     "metadata": {},
     "output_type": "execute_result"
    },
    {
     "data": {
      "image/png": "[encoded data removed]",
      "text/plain": [
       "<Figure size 640x480 with 1 Axes>"
      ]
     },
     "metadata": {},
     "output_type": "display_data"
    }
   ],
   "source": [
    "graph = dfr.head(40)\n",
    "graph.plot(kind='bar')"
   ]
  },
  {
   "cell_type": "code",
   "execution_count": null,
   "id": "1218ce36-de14-4008-8567-f813ed229018",
   "metadata": {},
   "outputs": [],
   "source": []
  }
 ],
 "metadata": {
  "kernelspec": {
   "display_name": "Python 3 (ipykernel)",
   "language": "python",
   "name": "python3"
  },
  "language_info": {
   "codemirror_mode": {
    "name": "ipython",
    "version": 3
   },
   "file_extension": ".py",
   "mimetype": "text/x-python",
   "name": "python",
   "nbconvert_exporter": "python",
   "pygments_lexer": "ipython3",
   "version": "3.12.4"
  }
 },
 "nbformat": 4,
 "nbformat_minor": 5
}
